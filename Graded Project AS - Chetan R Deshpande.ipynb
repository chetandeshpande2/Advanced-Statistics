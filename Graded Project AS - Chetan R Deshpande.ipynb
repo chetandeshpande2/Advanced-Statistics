{
 "cells": [
  {
   "cell_type": "code",
   "execution_count": 304,
   "id": "6161ccfd",
   "metadata": {},
   "outputs": [],
   "source": [
    "import numpy as np\n",
    "import pandas as pd\n",
    "import seaborn as sns\n",
    "import matplotlib.pyplot as plt\n",
    "import scipy.stats as stats\n",
    "from scipy.stats import norm\n",
    "import scipy"
   ]
  },
  {
   "cell_type": "markdown",
   "id": "b1bc0348",
   "metadata": {},
   "source": [
    "# Problem 1\n",
    "\n"
   ]
  },
  {
   "cell_type": "code",
   "execution_count": 305,
   "id": "b6ac167d",
   "metadata": {},
   "outputs": [
    {
     "name": "stdout",
     "output_type": "stream",
     "text": [
      "the probability that a randomly chosen player would suffer an injury is 0.6170212765957447\n"
     ]
    }
   ],
   "source": [
    "# 1.1 What is the probability that a randomly chosen player would suffer an injury?\n",
    "\n",
    "# m = players who suffer from injury = 145\n",
    "# n = total numbers of players = 235\n",
    "\n",
    "print(\"the probability that a randomly chosen player would suffer an injury is\", 145/235)\n"
   ]
  },
  {
   "cell_type": "code",
   "execution_count": 306,
   "id": "0c258b92",
   "metadata": {},
   "outputs": [
    {
     "name": "stdout",
     "output_type": "stream",
     "text": [
      "the probability that a player is a forward or a winger is 0.5234042553191489\n"
     ]
    }
   ],
   "source": [
    "# 1.2 What is the probability that a player is a forward or a winger?\n",
    "\n",
    "# m = total number of forward players = 94\n",
    "# n = total number of players = 235\n",
    "\n",
    "# the probability that a player is a forward is 94/235\n",
    "\n",
    "a=94/235\n",
    "\n",
    "# m = total number of wingers = 94\n",
    "# n = total number of players = 235\n",
    "\n",
    "# the probability that a player is a winger is 29/235)\n",
    "\n",
    "b=29/235\n",
    "\n",
    "print(\"the probability that a player is a forward or a winger is\", (a+b))"
   ]
  },
  {
   "cell_type": "code",
   "execution_count": 307,
   "id": "0cba0e2f",
   "metadata": {},
   "outputs": [
    {
     "name": "stdout",
     "output_type": "stream",
     "text": [
      "the probability that a player plays in a striker position and has a foot injury is 0.3103448275862069\n"
     ]
    }
   ],
   "source": [
    "# 1.3 What is the probability that a randomly chosen player plays in a striker position and has a foot injury?\n",
    "\n",
    "# m = total number of players who play in a striker position = 45\n",
    "# n = total number of players who suffer injury= 145\n",
    "\n",
    "a = 45/145\n",
    "\n",
    "\n",
    "print(\"the probability that a player plays in a striker position and has a foot injury is\", a)\n",
    "\n"
   ]
  },
  {
   "cell_type": "code",
   "execution_count": 308,
   "id": "32db3f85",
   "metadata": {},
   "outputs": [
    {
     "name": "stdout",
     "output_type": "stream",
     "text": [
      "the probability that a randomly chosen injured player is a striker is 0.3103448275862069\n"
     ]
    }
   ],
   "source": [
    "# 1.4 What is the probability that a randomly chosen injured player is a striker?\n",
    "\n",
    "# m = total number of players who are strikers = 45\n",
    "# n = total number of players who suffer injury= 145\n",
    "\n",
    "a = 45/145\n",
    "\n",
    "\n",
    "print(\"the probability that a randomly chosen injured player is a striker is\", a)\n",
    "\n",
    "\n",
    "\n"
   ]
  },
  {
   "cell_type": "code",
   "execution_count": 309,
   "id": "e78cf3e1",
   "metadata": {},
   "outputs": [
    {
     "name": "stdout",
     "output_type": "stream",
     "text": [
      "the probability that a randomly chosen injured player is either a forward or an attacking midfielder is 0.5517241379310345\n"
     ]
    }
   ],
   "source": [
    "# 1.5 What is the probability that a randomly chosen injured player is either a forward or an attacking midfielder?\n",
    "\n",
    "# m = total number of players who are either  forward or an attacking midfielder player = 56 + 24 = 80\n",
    "# n = total number of players who were injured = 145\n",
    "\n",
    "a = 80/145\n",
    "\n",
    "print(\"the probability that a randomly chosen injured player is either a forward or an attacking midfielder is\", a)\n",
    "\n"
   ]
  },
  {
   "cell_type": "markdown",
   "id": "48830327",
   "metadata": {},
   "source": [
    "# Problem 2\n",
    "\n"
   ]
  },
  {
   "cell_type": "code",
   "execution_count": 310,
   "id": "8f356a78",
   "metadata": {},
   "outputs": [],
   "source": [
    "# 2.1 What are the probabilities of a fire, a mechanical failure, and a human error respectively?"
   ]
  },
  {
   "cell_type": "code",
   "execution_count": 311,
   "id": "e672c909",
   "metadata": {},
   "outputs": [
    {
     "name": "stdout",
     "output_type": "stream",
     "text": [
      "the probabilities of a fire is 0.25\n",
      "the probabilities of a mechanical failure is 0.625\n",
      "the probabilities of a human error is 0.125\n"
     ]
    }
   ],
   "source": [
    "# a) Probability if a fire is 20%\n",
    "\n",
    "a = 20/80\n",
    "\n",
    "print(\"the probabilities of a fire is\", a)\n",
    "\n",
    "# b) Probability if a mechanical failure is 50%\n",
    "\n",
    "b = 50/80\n",
    "\n",
    "print(\"the probabilities of a mechanical failure is\", b)\n",
    "\n",
    "# c) Probability if a human error is 10%\n",
    "\n",
    "c = 10/80\n",
    "\n",
    "print(\"the probabilities of a human error is\", c)"
   ]
  },
  {
   "cell_type": "code",
   "execution_count": 312,
   "id": "2f95ea5e",
   "metadata": {},
   "outputs": [
    {
     "name": "stdout",
     "output_type": "stream",
     "text": [
      "Probability radiation leak is 0.37\n"
     ]
    }
   ],
   "source": [
    "# 2.2 What is the probability of a radiation leak?\n",
    "\n",
    "# Probability radiation leak = P(radiation leak with fire) + P(radiation leak with mechanical failure) + P(radiation leak with human error)\n",
    "\n",
    "TRL = 0.1 + 0.15 + 0.12\n",
    "\n",
    "print(\"Probability radiation leak is\", TRL)\n",
    "\n"
   ]
  },
  {
   "cell_type": "code",
   "execution_count": 313,
   "id": "88fc7bd3",
   "metadata": {},
   "outputs": [
    {
     "name": "stdout",
     "output_type": "stream",
     "text": [
      "the probability that it has been caused by a leak with fire is 0.27\n",
      "the probability that it has been caused by a leak with mechanical failure is 0.41\n",
      "the probability that it has been caused by a leak with human error is 0.32\n"
     ]
    }
   ],
   "source": [
    "# 2.3 Suppose there has been a radiation leak in the reactor for which the definite cause is not known. What is the probability that it has been caused by: A Fire, A Mechanical Failure, A Human Error.\n",
    " \n",
    "# From the previous question, we have found the probability radiation leak is 0.37\n",
    "\n",
    "# the probability that it has been caused by a fire = P(Leak with fire)/P(Radiation Leak)\n",
    "\n",
    "a = round(0.1/0.37, 2)\n",
    "\n",
    "print(\"the probability that it has been caused by a leak with fire is\", a)\n",
    "\n",
    "# the probability that it has been caused by a mechanical failure = P(Leak with mechanical failure)/P(Radiation Leak)\n",
    "\n",
    "b = round(0.15/0.37, 2)\n",
    "\n",
    "print(\"the probability that it has been caused by a leak with mechanical failure is\", b)\n",
    "\n",
    "# the probability that it has been caused by a human error = P(Leak with human error)/P(Radiation Leak)\n",
    "\n",
    "c = round(0.12/0.37, 2)\n",
    "\n",
    "print(\"the probability that it has been caused by a leak with human error is\", c)"
   ]
  },
  {
   "cell_type": "markdown",
   "id": "0527a150",
   "metadata": {},
   "source": [
    "# Problem 3:"
   ]
  },
  {
   "cell_type": "code",
   "execution_count": 314,
   "id": "82c976aa",
   "metadata": {},
   "outputs": [
    {
     "name": "stdout",
     "output_type": "stream",
     "text": [
      "-1.22\n"
     ]
    }
   ],
   "source": [
    "# 3.1 What proportion of the gunny bags have a breaking strength less than 3.17 kg per sq cm?\n",
    "\n",
    "Mu = 5\n",
    "Sigma = 1.5\n",
    "X = 3.17\n",
    "\n",
    "z = (X - Mu)/Sigma\n",
    "\n",
    "print(z)"
   ]
  },
  {
   "cell_type": "code",
   "execution_count": 315,
   "id": "9bef18a0",
   "metadata": {},
   "outputs": [
    {
     "name": "stdout",
     "output_type": "stream",
     "text": [
      "The cumulative probability for z = -1.22 is: 0.11\n"
     ]
    }
   ],
   "source": [
    "z = -1.22\n",
    "cumulative_prob = round(stats.norm.cdf(3.17,5,1.5),2)\n",
    "\n",
    "print(\"The cumulative probability for z = -1.22 is:\", cumulative_prob)"
   ]
  },
  {
   "cell_type": "code",
   "execution_count": 316,
   "id": "0b7b0c4a",
   "metadata": {},
   "outputs": [
    {
     "name": "stdout",
     "output_type": "stream",
     "text": [
      "the proportion of the gunny bags that have a breaking strength less than 3.17 kg per sq cm is 0.11\n"
     ]
    }
   ],
   "source": [
    "print(\"the proportion of the gunny bags that have a breaking strength less than 3.17 kg per sq cm is\", cumulative_prob)"
   ]
  },
  {
   "cell_type": "code",
   "execution_count": 317,
   "id": "c5e17de8",
   "metadata": {},
   "outputs": [
    {
     "data": {
      "image/png": "[encoded data removed]",
      "text/plain": [
       "<Figure size 800x400 with 1 Axes>"
      ]
     },
     "metadata": {},
     "output_type": "display_data"
    }
   ],
   "source": [
    "mu = 5\n",
    "sigma = 1.5\n",
    "\n",
    "x = np.linspace(mu - 4*sigma, mu + 4*sigma, 100)\n",
    "y = norm.pdf(x, mu, sigma)\n",
    "\n",
    "fig, ax = plt.subplots(figsize=(8, 4))\n",
    "ax.fill_between(x[x<=3.17], y[x<=3.17], color='blue', alpha=0.5)\n",
    "ax.plot(x, y, color='blue')\n",
    "ax.set_xlabel('Breaking strength (kg per sq. cm)')\n",
    "ax.set_ylabel('Probability density')\n",
    "ax.set_title('Normal distribution of breaking strength')\n",
    "\n",
    "plt.show()"
   ]
  },
  {
   "cell_type": "code",
   "execution_count": 318,
   "id": "9ae31236",
   "metadata": {},
   "outputs": [
    {
     "name": "stdout",
     "output_type": "stream",
     "text": [
      "-0.93\n"
     ]
    }
   ],
   "source": [
    "# 3.2 What proportion of the gunny bags have a breaking strength at least 3.6 kg per sq cm.?\n",
    "\n",
    "Mu = 5\n",
    "Sigma = 1.5\n",
    "X = 3.6\n",
    "\n",
    "z = round((X - Mu)/Sigma, 2)\n",
    "\n",
    "print(z)"
   ]
  },
  {
   "cell_type": "code",
   "execution_count": 319,
   "id": "774fbe90",
   "metadata": {},
   "outputs": [
    {
     "name": "stdout",
     "output_type": "stream",
     "text": [
      "The cumulative probability for z = -0.93 is: 0.82\n"
     ]
    }
   ],
   "source": [
    "z = -0.93\n",
    "cumulative_prob = round(1-stats.norm.cdf(3.6,5,1.5),2)\n",
    "\n",
    "print(\"The cumulative probability for z = -0.93 is:\", cumulative_prob)"
   ]
  },
  {
   "cell_type": "code",
   "execution_count": 320,
   "id": "d19d1132",
   "metadata": {},
   "outputs": [
    {
     "name": "stdout",
     "output_type": "stream",
     "text": [
      "the proportion of the gunny bags that have a breaking strength at least 3.6 kg per sq cm is 0.82\n"
     ]
    }
   ],
   "source": [
    "print(\"the proportion of the gunny bags that have a breaking strength at least 3.6 kg per sq cm is\", cumulative_prob)"
   ]
  },
  {
   "cell_type": "code",
   "execution_count": 321,
   "id": "09e350bd",
   "metadata": {},
   "outputs": [
    {
     "data": {
      "image/png": "[encoded data removed]",
      "text/plain": [
       "<Figure size 800x500 with 1 Axes>"
      ]
     },
     "metadata": {},
     "output_type": "display_data"
    }
   ],
   "source": [
    "mean = 5\n",
    "std_dev = 1.5\n",
    "\n",
    "x = np.linspace(mean - 4 * std_dev, mean + 4 * std_dev, 1000)\n",
    "y = norm.pdf(x, mean, std_dev)\n",
    "\n",
    "fig, ax = plt.subplots(figsize=(8,5))\n",
    "ax.plot(x, y)\n",
    "\n",
    "x_fill = np.linspace(3.6, mean + 4 * std_dev, 1000)\n",
    "y_fill = norm.pdf(x_fill, mean, std_dev)\n",
    "ax.fill_between(x_fill, y_fill, alpha=0.5)\n",
    "\n",
    "plt.xlabel('Breaking strength (kg per sq cm)')\n",
    "plt.ylabel('PDF')\n",
    "plt.title('Probability density function of breaking strength')\n",
    "plt.show()"
   ]
  },
  {
   "cell_type": "code",
   "execution_count": 322,
   "id": "f8611c74",
   "metadata": {},
   "outputs": [
    {
     "name": "stdout",
     "output_type": "stream",
     "text": [
      "0.0\n",
      "0.33\n"
     ]
    }
   ],
   "source": [
    "# 3.3 What proportion of the gunny bags have a breaking strength between 5 and 5.5 kg per sq cm.?\n",
    "\n",
    "z1 = (5-5)/1.5\n",
    "\n",
    "z2 = round((5.5-5)/1.5, 2)\n",
    "\n",
    "print(z1)\n",
    "print(z2)"
   ]
  },
  {
   "cell_type": "code",
   "execution_count": 323,
   "id": "53b14824",
   "metadata": {},
   "outputs": [
    {
     "name": "stdout",
     "output_type": "stream",
     "text": [
      "The proportion of gunny bags that have a breaking strength between 5 and 5.5 kg per sq cm is 0.13\n"
     ]
    }
   ],
   "source": [
    "probability = round(norm.cdf(z2) - norm.cdf(z1),2)\n",
    "\n",
    "print(\"The proportion of gunny bags that have a breaking strength between 5 and 5.5 kg per sq cm is\", probability)\n"
   ]
  },
  {
   "cell_type": "code",
   "execution_count": 324,
   "id": "b7b05d4f",
   "metadata": {},
   "outputs": [
    {
     "data": {
      "image/png": "[encoded data removed]",
      "text/plain": [
       "<Figure size 1000x500 with 1 Axes>"
      ]
     },
     "metadata": {},
     "output_type": "display_data"
    }
   ],
   "source": [
    "mu = 5\n",
    "sigma = 1.5\n",
    "\n",
    "lower = 5\n",
    "upper = 5.5\n",
    "\n",
    "x = np.linspace(mu - 4 * sigma, mu + 4 * sigma, 100)\n",
    "y = norm.pdf(x, mu, sigma)\n",
    "\n",
    "fig, ax = plt.subplots(figsize=(10, 5))\n",
    "ax.plot(x, y, color='black', lw=2)\n",
    "ax.fill_between(x, 0, y, where=(x >= lower) & (x <= upper), alpha=0.3)\n",
    "ax.set_xlabel('Breaking strength (kg per sq cm)')\n",
    "ax.set_ylabel('Density')\n",
    "ax.set_title('Normal distribution of breaking strength')\n",
    "\n",
    "plt.show()"
   ]
  },
  {
   "cell_type": "code",
   "execution_count": 325,
   "id": "df0d44b2",
   "metadata": {},
   "outputs": [
    {
     "name": "stdout",
     "output_type": "stream",
     "text": [
      "The proportion of bags not between 3 and 7.5 kg per sq cm is 0.13900157199868257\n"
     ]
    }
   ],
   "source": [
    "# 3.4 What proportion of the gunny bags have a breaking strength NOT between 3 and 7.5 kg per sq cm.?\n",
    "\n",
    "p1 = stats.norm.cdf(7.5, 5, 1.5)\n",
    "\n",
    "p2 = stats.norm.cdf(3, 5, 1.5)\n",
    "\n",
    "proportion_between = p1 - p2\n",
    "\n",
    "proportion_not_between = 1 - proportion_between\n",
    "\n",
    "\n",
    "print(\"The proportion of bags not between 3 and 7.5 kg per sq cm is\", proportion_not_between)\n"
   ]
  },
  {
   "cell_type": "code",
   "execution_count": 326,
   "id": "7b49d293",
   "metadata": {},
   "outputs": [
    {
     "data": {
      "image/png": "[encoded data removed]",
      "text/plain": [
       "<Figure size 640x480 with 1 Axes>"
      ]
     },
     "metadata": {},
     "output_type": "display_data"
    }
   ],
   "source": [
    "x = np.linspace(0, 10, 100)\n",
    "y = norm.pdf(x, loc=5, scale=1.5)\n",
    "\n",
    "plt.fill_between(x, y, where=((x>=3) & (x<=7.5)), color='blue', alpha=0.3)\n",
    "plt.fill_between(x, y, where=((x<3) | (x>7.5)), color='orange', alpha=0.3)\n",
    "plt.plot(x, y)\n",
    "plt.xlabel('Breaking Strength (kg per sq. cm)')\n",
    "plt.ylabel('Probability Density')\n",
    "plt.title('Distribution of Breaking Strength for Gunny Bags')\n",
    "\n",
    "plt.show()"
   ]
  },
  {
   "cell_type": "markdown",
   "id": "8c0830f8",
   "metadata": {},
   "source": [
    "# Problem 4:\n",
    "\n"
   ]
  },
  {
   "cell_type": "code",
   "execution_count": 327,
   "id": "cedc832c",
   "metadata": {},
   "outputs": [
    {
     "name": "stdout",
     "output_type": "stream",
     "text": [
      "0.94\n"
     ]
    }
   ],
   "source": [
    "# 4.1 What is the probability that a randomly chosen student gets a grade below 85 on this exam?\n",
    "\n",
    "X = 85\n",
    "Mu = 77\n",
    "Sigma = 8.5\n",
    "\n",
    "z = round((X - Mu)/Sigma, 2)\n",
    "\n",
    "print(z)"
   ]
  },
  {
   "cell_type": "code",
   "execution_count": 328,
   "id": "4b3f521d",
   "metadata": {},
   "outputs": [
    {
     "name": "stdout",
     "output_type": "stream",
     "text": [
      "0.8267\n"
     ]
    }
   ],
   "source": [
    "P = round(stats.norm.cdf(X, Mu, Sigma), 4)\n",
    "print(P)"
   ]
  },
  {
   "cell_type": "code",
   "execution_count": 329,
   "id": "aa7402f4",
   "metadata": {},
   "outputs": [
    {
     "name": "stdout",
     "output_type": "stream",
     "text": [
      "the probability that a randomly chosen student gets a grade below 85 on this exam is 0.8267\n"
     ]
    }
   ],
   "source": [
    "print(\"the probability that a randomly chosen student gets a grade below 85 on this exam is\", P)"
   ]
  },
  {
   "cell_type": "code",
   "execution_count": 330,
   "id": "d5ede56a",
   "metadata": {},
   "outputs": [
    {
     "name": "stdout",
     "output_type": "stream",
     "text": [
      "-1.411764705882353\n"
     ]
    }
   ],
   "source": [
    "# 4.2 What is the probability that a randomly selected student scores between 65 and 87?\n",
    "\n",
    "z1 = (65-77)/8.5\n",
    "\n",
    "print(z1)"
   ]
  },
  {
   "cell_type": "code",
   "execution_count": 331,
   "id": "86628cf2",
   "metadata": {},
   "outputs": [
    {
     "name": "stdout",
     "output_type": "stream",
     "text": [
      "1.1764705882352942\n"
     ]
    }
   ],
   "source": [
    "z2 = (87-77)/8.5\n",
    "\n",
    "print(z2)"
   ]
  },
  {
   "cell_type": "code",
   "execution_count": 332,
   "id": "4e250a42",
   "metadata": {},
   "outputs": [
    {
     "name": "stdout",
     "output_type": "stream",
     "text": [
      "0.079\n",
      "0.88\n"
     ]
    }
   ],
   "source": [
    "P1 = round(norm.cdf(z1), 3)\n",
    "P2 = round(norm.cdf(z2), 3)\n",
    "\n",
    "print(P1)\n",
    "print(P2)"
   ]
  },
  {
   "cell_type": "code",
   "execution_count": 333,
   "id": "a935301a",
   "metadata": {},
   "outputs": [
    {
     "name": "stdout",
     "output_type": "stream",
     "text": [
      "the probability that a randomly selected student scores between 65 and 87 is 0.801\n"
     ]
    }
   ],
   "source": [
    "print(\"the probability that a randomly selected student scores between 65 and 87 is\", P2 - P1)"
   ]
  },
  {
   "cell_type": "code",
   "execution_count": 334,
   "id": "94b0cb88",
   "metadata": {},
   "outputs": [
    {
     "name": "stdout",
     "output_type": "stream",
     "text": [
      "0.674\n"
     ]
    }
   ],
   "source": [
    "# 4.3 What should be the passing cut-off so that 75% of the students clear the exam?\n",
    "\n",
    "from scipy.stats import norm\n",
    "\n",
    "mean = 77\n",
    "std_dev = 8.5\n",
    "percentile = 0.75\n",
    "\n",
    "z_score = round(norm.ppf(percentile), 3)\n",
    "\n",
    "print(z_score)"
   ]
  },
  {
   "cell_type": "code",
   "execution_count": 335,
   "id": "8792d9a8",
   "metadata": {},
   "outputs": [
    {
     "name": "stdout",
     "output_type": "stream",
     "text": [
      "The passing cut-off so that 75% of the students clear the exam is 82.729\n"
     ]
    }
   ],
   "source": [
    "passing_score = mean + z_score * std_dev\n",
    "\n",
    "print(\"The passing cut-off so that 75% of the students clear the exam is\", passing_score)"
   ]
  },
  {
   "cell_type": "markdown",
   "id": "5dc08a60",
   "metadata": {},
   "source": [
    "# Problem 5:\n"
   ]
  },
  {
   "cell_type": "code",
   "execution_count": 336,
   "id": "2eef4494",
   "metadata": {},
   "outputs": [],
   "source": [
    "# 5.1 Earlier experience of Zingaro with this particular client is favorable as the stone surface was found to be of adequate hardness. However, Zingaro has reason to believe now that the unpolished stones may not be suitable for printing. Do you think Zingaro is justified in thinking so?\n",
    "\n",
    "\n",
    "# Ho : The average Brinell's hardness index of the unpolished stones is at least 150. \n",
    "# Ha : The average Brinell's hardness index of the unpolished stones is less than 150.\n",
    "\n",
    "df = pd.read_csv(\"~chetandeshpande/Documents/Python/download-8.csv\")"
   ]
  },
  {
   "cell_type": "code",
   "execution_count": 337,
   "id": "e7dd224f",
   "metadata": {},
   "outputs": [
    {
     "data": {
      "text/html": [
       "<div>\n",
       "<style scoped>\n",
       "    .dataframe tbody tr th:only-of-type {\n",
       "        vertical-align: middle;\n",
       "    }\n",
       "\n",
       "    .dataframe tbody tr th {\n",
       "        vertical-align: top;\n",
       "    }\n",
       "\n",
       "    .dataframe thead th {\n",
       "        text-align: right;\n",
       "    }\n",
       "</style>\n",
       "<table border=\"1\" class=\"dataframe\">\n",
       "  <thead>\n",
       "    <tr style=\"text-align: right;\">\n",
       "      <th></th>\n",
       "      <th>Unpolished</th>\n",
       "      <th>Treated and Polished</th>\n",
       "    </tr>\n",
       "  </thead>\n",
       "  <tbody>\n",
       "    <tr>\n",
       "      <th>0</th>\n",
       "      <td>164.481713</td>\n",
       "      <td>133.209393</td>\n",
       "    </tr>\n",
       "    <tr>\n",
       "      <th>1</th>\n",
       "      <td>154.307045</td>\n",
       "      <td>138.482771</td>\n",
       "    </tr>\n",
       "    <tr>\n",
       "      <th>2</th>\n",
       "      <td>129.861048</td>\n",
       "      <td>159.665201</td>\n",
       "    </tr>\n",
       "    <tr>\n",
       "      <th>3</th>\n",
       "      <td>159.096184</td>\n",
       "      <td>145.663528</td>\n",
       "    </tr>\n",
       "    <tr>\n",
       "      <th>4</th>\n",
       "      <td>135.256748</td>\n",
       "      <td>136.789227</td>\n",
       "    </tr>\n",
       "  </tbody>\n",
       "</table>\n",
       "</div>"
      ],
      "text/plain": [
       "   Unpolished   Treated and Polished\n",
       "0   164.481713            133.209393\n",
       "1   154.307045            138.482771\n",
       "2   129.861048            159.665201\n",
       "3   159.096184            145.663528\n",
       "4   135.256748            136.789227"
      ]
     },
     "execution_count": 337,
     "metadata": {},
     "output_type": "execute_result"
    }
   ],
   "source": [
    "df.head()"
   ]
  },
  {
   "cell_type": "code",
   "execution_count": 338,
   "id": "b6c93ec2",
   "metadata": {},
   "outputs": [
    {
     "name": "stdout",
     "output_type": "stream",
     "text": [
      "The sample size of the data is 75\n"
     ]
    }
   ],
   "source": [
    "print(\"The sample size of the data is\", len(df))"
   ]
  },
  {
   "cell_type": "code",
   "execution_count": 339,
   "id": "9f00b4dc",
   "metadata": {},
   "outputs": [],
   "source": [
    "alpha = 0.05"
   ]
  },
  {
   "cell_type": "markdown",
   "id": "db9f9c75",
   "metadata": {},
   "source": [
    "# Problem 6:\n",
    "\n"
   ]
  },
  {
   "cell_type": "code",
   "execution_count": null,
   "id": "a3292f5b",
   "metadata": {},
   "outputs": [],
   "source": [
    "df = pd.read_csv(\"~chetandeshpande/Downloads/download-10.csv\")"
   ]
  },
  {
   "cell_type": "code",
   "execution_count": null,
   "id": "6b405b35",
   "metadata": {},
   "outputs": [],
   "source": [
    "# Ho : the mean difference in push-ups before and after the program is less than or equal to 5\n",
    "# Ha :  the mean difference is greater than 5"
   ]
  },
  {
   "cell_type": "code",
   "execution_count": null,
   "id": "e694d693",
   "metadata": {},
   "outputs": [],
   "source": [
    "df.head()"
   ]
  },
  {
   "cell_type": "code",
   "execution_count": null,
   "id": "32998a86",
   "metadata": {},
   "outputs": [],
   "source": [
    "from scipy.stats import t\n",
    "\n",
    "\n",
    "differences = df[\"After\"] - df[\"Before\"]\n",
    "\n",
    "x_bar = np.mean(differences)\n",
    "s = np.std(differences, ddof=1)\n",
    "\n",
    "n = len(differences)\n",
    "t_statistic = (x_bar - 5) / (s / np.sqrt(n))\n",
    "\n",
    "p_value = 1 - t.cdf(t_statistic, df=n-1)\n",
    "\n",
    "print(\"t-statistic: \", t_statistic)\n",
    "print(\"p-value: \", p_value)\n",
    "\n",
    "if p_value < 0.05:\n",
    "    print(\"Reject the null hypothesis. The program is successful in increasing the number of push-ups.\")\n",
    "else:\n",
    "    print(\"Fail to reject the null hypothesis. The program is not successful in increasing the number of push-ups.\")\n"
   ]
  },
  {
   "cell_type": "markdown",
   "id": "bbf59577",
   "metadata": {},
   "source": [
    "# Problem 7:"
   ]
  },
  {
   "cell_type": "code",
   "execution_count": null,
   "id": "aed73c4c",
   "metadata": {},
   "outputs": [],
   "source": [
    "# Dental implant data: The hardness of metal implant in dental cavities depends on multiple factors, such as the method of implant, the temperature at which the metal is treated, the alloy used as well as on the dentists who may favour one method above another and may work better in his/her favourite method. The response is the variable of interest.\n",
    "    \n",
    "df = pd.read_excel(\"~chetandeshpande/Downloads/Dental Hardness data.xlsx\")"
   ]
  },
  {
   "cell_type": "code",
   "execution_count": null,
   "id": "44901867",
   "metadata": {},
   "outputs": [],
   "source": [
    "df.head()"
   ]
  },
  {
   "cell_type": "code",
   "execution_count": null,
   "id": "96d789e8",
   "metadata": {},
   "outputs": [],
   "source": [
    "df.describe()"
   ]
  },
  {
   "cell_type": "code",
   "execution_count": null,
   "id": "aca98cbb",
   "metadata": {},
   "outputs": [],
   "source": [
    "df.info()"
   ]
  }
 ],
 "metadata": {
  "kernelspec": {
   "display_name": "Python 3 (ipykernel)",
   "language": "python",
   "name": "python3"
  },
  "language_info": {
   "codemirror_mode": {
    "name": "ipython",
    "version": 3
   },
   "file_extension": ".py",
   "mimetype": "text/x-python",
   "name": "python",
   "nbconvert_exporter": "python",
   "pygments_lexer": "ipython3",
   "version": "3.9.13"
  }
 },
 "nbformat": 4,
 "nbformat_minor": 5
}
